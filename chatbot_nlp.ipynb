{
  "nbformat": 4,
  "nbformat_minor": 0,
  "metadata": {
    "colab": {
      "provenance": [],
      "authorship_tag": "ABX9TyO6BIHcoJ/KTwoB7JwXdlxN",
      "include_colab_link": true
    },
    "kernelspec": {
      "name": "python3",
      "display_name": "Python 3"
    },
    "language_info": {
      "name": "python"
    }
  },
  "cells": [
    {
      "cell_type": "markdown",
      "metadata": {
        "id": "view-in-github",
        "colab_type": "text"
      },
      "source": [
        "<a href=\"https://colab.research.google.com/github/VidishaBora912/ChatBot-NLP/blob/main/chatbot_nlp.ipynb\" target=\"_parent\"><img src=\"https://colab.research.google.com/assets/colab-badge.svg\" alt=\"Open In Colab\"/></a>"
      ]
    },
    {
      "cell_type": "code",
      "execution_count": null,
      "metadata": {
        "id": "Q-Lfos6MxpbS"
      },
      "outputs": [],
      "source": [
        "import re\n",
        "import random\n"
      ]
    },
    {
      "cell_type": "code",
      "source": [
        "class NewBot:\n",
        "  negative_responses = (\"no\", \"nope\", \"nah\", \"naw\", \"not a chance\", \"sorry\")\n",
        "  exit_commands = (\"quit\", \"pause\", \"exit\", \"goodbye\", \"bye\", \"later\")\n",
        "  random_questions =(\n",
        "      \"What is your name?\",\n",
        "      \"Is today a good day?\",\n",
        "      \"Which year is this?\",\n",
        "      \"Who is Prime Minister of India?\",\n",
        "      \"Name the Galaxy in which Earth is present.\",\n",
        "      \"Are you a Robot?\",\n",
        "  )\n",
        "\n",
        "  def __init__(self):\n",
        "    self.alienbabble = {\n",
        "        'describe_planet_intent': r'.*\\s*your planet.*',\n",
        "        'answer_why_intent': r'why\\sare.*',\n",
        "        'about_name': r'.*\\s*name'\n",
        "    }\n",
        "\n",
        "\n",
        "  def greet(self):\n",
        "    self.name = input(\"What is your name?\\n\")\n",
        "    will_help = input(f\"Hi {self.name}, I am a Rule-Bot. Will you help me learn about your day?\\n\")\n",
        "    if will_help in self.negative_responses:\n",
        "      print(\"Ok, have a nice day!\")\n",
        "      return\n",
        "    self.chat()\n",
        "\n",
        "  def make_exit(self, reply):\n",
        "    for command in self.exit_commands:\n",
        "      if reply == command:\n",
        "        print(\"Okay, have a nice day!\")\n",
        "        return True\n",
        "\n",
        "  def chat(self):\n",
        "    reply = input(random.choice(self.random_questions)).lower()\n",
        "    while not self.make_exit(reply):\n",
        "      reply = input(self.match_reply(reply))\n",
        "\n",
        "  def match_reply(self, reply):\n",
        "    for key, value in self.alienbabble.items():\n",
        "      intent = key\n",
        "      regex_pattern = value\n",
        "      found_match = re.match(regex_pattern, reply)\n",
        "      if found_match and intent == 'describe_data_intent':\n",
        "        return self.describe_planet_intent()\n",
        "      elif found_match and intent == 'answer_why_intent':\n",
        "        return self.answer_why_intent()\n",
        "      elif found_match and intent == 'about_name':\n",
        "        return self.about_name()\n",
        "    if not found_match:\n",
        "      return self.no_match_intent()\n",
        "\n",
        "  def describe_data_intent(self):\n",
        "    responses = (\"My data is taken from the survey done to multiple people.\\n\",\n",
        "                 \"I give information that are based on my own calculations from the data feeded in me.\\n\")\n",
        "    return random.choice(responses)\n",
        "\n",
        "  def answer_why_intent(self):\n",
        "    responses = (\"Today is a good day.\\n\",\n",
        "                 \"This is 2024.\\n\", \"The Prime Minister of India is Mr. Narendra Damodar Das Modi.\",\n",
        "                 \"The Galaxy in which Earth is present is the Milky Way Galaxy.\\n\",\"No, I am N=not a robot but a chatbot.\\n \")\n",
        "    return random.choice(responses)\n",
        "\n",
        "  def about_name(self):\n",
        "    return \"My name is Rule-Bot.\\n\"\n",
        "\n",
        "  def no_match_intent(self):\n",
        "    responses = (\n",
        "        \"Please tell me more.\\n\", \"Tell me more!\\n\", \"Why do you say that?\\n\", \"I see. Can you elaborate?\\n\",\n",
        "        \"Interesting. Can you tell me more?\\n\", \"I see. How do you think?\\n\", \"Why?\\n\",\n",
        "        \"How do you think I feel when you say that?\\n\")\n",
        "    return random.choice(responses)\n",
        "\n",
        "InfoBot = NewBot()\n",
        "InfoBot.greet()"
      ],
      "metadata": {
        "colab": {
          "base_uri": "https://localhost:8080/"
        },
        "id": "7vJHSm12yI6a",
        "outputId": "9028f297-0005-4db5-d41f-f6eb25766ed6"
      },
      "execution_count": null,
      "outputs": [
        {
          "output_type": "stream",
          "name": "stdout",
          "text": [
            "What is your name?\n",
            "dsaf\n",
            "Hi dsaf, I am a Rule-Bot. Will you help me learn about your day?\n",
            "yes\n",
            "Which year is this?2024\n",
            "Why?\n",
            "qiut\n",
            "Why?\n",
            "quit\n",
            "Okay, have a nice day!\n"
          ]
        }
      ]
    },
    {
      "cell_type": "code",
      "source": [],
      "metadata": {
        "id": "eIogPGbcDR_K"
      },
      "execution_count": null,
      "outputs": []
    },
    {
      "cell_type": "code",
      "source": [],
      "metadata": {
        "id": "5DQCJ-423nc3"
      },
      "execution_count": null,
      "outputs": []
    }
  ]
}